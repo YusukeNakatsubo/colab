{
 "cells": [
  {
   "cell_type": "code",
   "execution_count": null,
   "metadata": {},
   "outputs": [],
   "source": [
    "# ファイル形式をCSVからJSONに変換\n",
    "# coding:UTF-8\n",
    "import json\n",
    "import csv\n",
    "\n",
    "json_list = []\n",
    "\n",
    "# CSVファイルの読み込み（ファイル名を指定）\n",
    "with open('##########.csv', 'r') as f:\n",
    "    for row in csv.DictReader(f):\n",
    "        json_list.append(row)\n",
    "\n",
    "# JSONファイルの書き込み（ファイル名を指定）\n",
    "with open('##########.json', 'w') as f:\n",
    "    # JSONへの書き込み\n",
    "    json.dump(json_list, f, ensure_ascii=False)"
   ]
  },
  {
   "cell_type": "code",
   "execution_count": null,
   "metadata": {},
   "outputs": [],
   "source": [
    "# ローカルにJSONファイルをダウンロード\n",
    "from google.colab import files\n",
    "files.download('##########.json')"
   ]
  }
 ],
 "metadata": {
  "language_info": {
   "name": "python"
  },
  "orig_nbformat": 4
 },
 "nbformat": 4,
 "nbformat_minor": 2
}
